{
 "cells": [
  {
   "cell_type": "markdown",
   "id": "0",
   "metadata": {},
   "source": [
    "## Task Generator\n",
    "\n",
    "In this notebook, we will make changes to support a task generator for user simulation study in Tool Sanbbox. The user simulation study has been broken down into two components:\n",
    "- Natural Language Task Generator: We will take the current randomized state of the environment, all the available tools and prepare a prompt for the model to generate a natural language task.\n",
    "- User Trajectory Generator: This class will take in a natural language task and try to complete the task in the tool sandbox. Most importantly, we will strip the \"thinking\" outputs from the outputs of this class. So ideal trajectory should look like a sequence of tool calls and system messages to user.\n",
    "\n",
    "\n",
    "Additionally, we want to evaluate the *feasibility* of the task generator and *accuracy* of the trajectory generator. Feasbility can be calculated as *how many models are able to complete the task* and accuracy of trajectory generator, we should be able to judge by using milestones and minefields. Milestones and minefields should also be automatically generated but then we also have to find a way to judge it's own accuracy. I know LLM as a judge should be doable but still."
   ]
  },
  {
   "cell_type": "code",
   "execution_count": null,
   "id": "1",
   "metadata": {},
   "outputs": [],
   "source": [
    "%load_ext autoreload\n",
    "%autoreload 2\n"
   ]
  },
  {
   "cell_type": "code",
   "execution_count": null,
   "id": "2",
   "metadata": {},
   "outputs": [],
   "source": [
    "from tool_sandbox.common.execution_context import DatabaseNamespace, RoleType, get_current_context\n",
    "\n",
    "from tool_sandbox.common.message_conversion import Message\n",
    "from tool_sandbox.common.tool_conversion import convert_to_openai_tool, convert_to_openai_tools, convert_python_function_to_openai_function\n"
   ]
  },
  {
   "cell_type": "code",
   "execution_count": null,
   "id": "3",
   "metadata": {},
   "outputs": [],
   "source": [
    "current_context = get_current_context()\n",
    "\n",
    "sandbox_database = current_context.get_database(DatabaseNamespace.SANDBOX, get_all_history_snapshots=True, drop_sandbox_message_index=False)\n"
   ]
  },
  {
   "cell_type": "code",
   "execution_count": null,
   "id": "4",
   "metadata": {},
   "outputs": [],
   "source": [
    "print(sandbox_database)\n"
   ]
  },
  {
   "cell_type": "code",
   "execution_count": null,
   "id": "5",
   "metadata": {},
   "outputs": [],
   "source": [
    "available_tools = current_context.get_available_tools(scrambling_allowed=True)\n",
    "print(available_tools)\n"
   ]
  },
  {
   "cell_type": "code",
   "execution_count": null,
   "id": "6",
   "metadata": {},
   "outputs": [],
   "source": [
    "convert_to_openai_tool(available_tools[\"add_contact\"])\n"
   ]
  },
  {
   "cell_type": "code",
   "execution_count": null,
   "id": "7",
   "metadata": {},
   "outputs": [],
   "source": [
    "convert_python_function_to_openai_function(\"add_contact\", available_tools[\"add_contact\"])\n"
   ]
  },
  {
   "cell_type": "code",
   "execution_count": null,
   "id": "8",
   "metadata": {},
   "outputs": [],
   "source": [
    "# get all tools and their openai tool representation\n",
    "from tool_sandbox.common.tool_discovery import get_all_tools, ToolBackend\n",
    "from tool_sandbox.common.tool_conversion import convert_python_function_to_nl_tool_string, get_tool_docs_natural_language\n",
    "\n",
    "# TODO: Write a utility function to convert openai_tools to natural language strings for use with LLM.\n",
    "\n",
    "all_tools = get_all_tools(ToolBackend.DEFAULT)\n",
    "\n",
    "tool_docs = get_tool_docs_natural_language(all_tools)\n",
    "print(tool_docs)\n",
    "\n",
    "\n"
   ]
  },
  {
   "cell_type": "code",
   "execution_count": null,
   "id": "9",
   "metadata": {},
   "outputs": [],
   "source": [
    "from tool_sandbox.common.tool_discovery import get_tool_categories_info\n",
    "\n"
   ]
  },
  {
   "cell_type": "code",
   "execution_count": null,
   "id": "10",
   "metadata": {},
   "outputs": [],
   "source": [
    "get_tool_categories_info()\n"
   ]
  },
  {
   "cell_type": "code",
   "execution_count": null,
   "id": "11",
   "metadata": {},
   "outputs": [],
   "source": [
    "from dotenv import load_dotenv\n",
    "import random\n",
    "from tool_sandbox.common.execution_context import ExecutionContext\n",
    "from tool_sandbox.scenarios.openai_task_generator import OpenAITaskGenerator\n",
    "from tool_sandbox.common.tool_discovery import ToolBackend\n",
    "\n",
    "load_dotenv()\n",
    "\n",
    "execution_context = ExecutionContext()\n"
   ]
  },
  {
   "cell_type": "code",
   "execution_count": null,
   "id": "12",
   "metadata": {},
   "outputs": [],
   "source": [
    "# Create OpenAI task generator\n",
    "task_generator = OpenAITaskGenerator(\n",
    "    model_name=\"o3-mini\",\n",
    "    execution_context=execution_context,\n",
    "    max_retries=3,\n",
    "    populate_sample_data=False  # Skipping for MVP\n",
    ")\n"
   ]
  },
  {
   "cell_type": "code",
   "execution_count": null,
   "id": "13",
   "metadata": {},
   "outputs": [],
   "source": [
    "generated_tasks = []\n",
    "tool_categories = [\"contact\", \"messaging\", \"reminder\", \"setting\", \"utilities\"]\n",
    "\n",
    "for i in range(10):\n",
    "    num_categories = random.randint(3, len(tool_categories))\n",
    "    allowed_categories = random.sample(tool_categories, num_categories)\n",
    "    generated_task = task_generator.generate_task(\n",
    "        allowed_tool_categories=allowed_categories,\n",
    "        preferred_tool_backend=ToolBackend.DEFAULT,\n",
    "    )\n",
    "    generated_tasks.append(generated_task)\n"
   ]
  },
  {
   "cell_type": "code",
   "execution_count": null,
   "id": "14",
   "metadata": {},
   "outputs": [],
   "source": [
    "# dump the generated tasks to a jsonl file\n",
    "import json\n",
    "from attrs import asdict\n",
    "filename = \"../data/o3_mini_generated_tasks.jsonl\"\n",
    "with open(filename, 'w', encoding='utf-8') as f:\n",
    "    for task in generated_tasks:\n",
    "        # Convert the @define object to a dictionary\n",
    "        task_dict = asdict(task)\n",
    "        # Write each task as a JSON line\n",
    "        f.write(json.dumps(task_dict) + '\\n')\n"
   ]
  },
  {
   "cell_type": "code",
   "execution_count": null,
   "id": "15",
   "metadata": {},
   "outputs": [],
   "source": [
    "import csv\n",
    "from pathlib import Path\n",
    "def jsonl_to_csv(jsonl_file: str, csv_file: str) -> None:\n",
    "    \"\"\"Convert a JSONL file of generated tasks to CSV format.\n",
    "\n",
    "    Args:\n",
    "        jsonl_file: Path to the input JSONL file\n",
    "        csv_file: Path to the output CSV file\n",
    "    \"\"\"\n",
    "    # Load tasks from JSONL\n",
    "    tasks = []\n",
    "    with open(jsonl_file, 'r', encoding='utf-8') as f:\n",
    "        for line in f:\n",
    "            if line.strip():\n",
    "                task_dict = json.loads(line.strip())\n",
    "                tasks.append(task_dict)\n",
    "\n",
    "    if not tasks:\n",
    "        print(f\"No tasks found in {jsonl_file}\")\n",
    "        return\n",
    "\n",
    "    # Write to CSV (excluding task_id)\n",
    "    fieldnames = ['description', 'required_tools', 'tools_category']\n",
    "\n",
    "    with open(csv_file, 'w', newline='', encoding='utf-8') as f:\n",
    "        writer = csv.DictWriter(f, fieldnames=fieldnames)\n",
    "        writer.writeheader()\n",
    "\n",
    "        for task in tasks:\n",
    "            # Convert lists to semicolon-separated strings for CSV compatibility\n",
    "            csv_row = {\n",
    "                'description': task['description'],\n",
    "                'required_tools': '; '.join(task['required_tools']),\n",
    "                'tools_category': '; '.join(task['tools_category'])\n",
    "            }\n",
    "            writer.writerow(csv_row)\n",
    "\n",
    "    print(f\"✅ Converted {len(tasks)} tasks from {jsonl_file} to {csv_file}\")\n"
   ]
  },
  {
   "cell_type": "code",
   "execution_count": null,
   "id": "16",
   "metadata": {},
   "outputs": [],
   "source": [
    "jsonl_to_csv(\"../data/gpt_4o_generated_tasks.jsonl\", \"../data/gpt_4o_generated_tasks.csv\")\n"
   ]
  },
  {
   "cell_type": "code",
   "execution_count": null,
   "id": "17",
   "metadata": {},
   "outputs": [],
   "source": []
  }
 ],
 "metadata": {
  "kernelspec": {
   "display_name": ".venv",
   "language": "python",
   "name": "python3"
  },
  "language_info": {
   "codemirror_mode": {
    "name": "ipython",
    "version": 3
   },
   "file_extension": ".py",
   "mimetype": "text/x-python",
   "name": "python",
   "nbconvert_exporter": "python",
   "pygments_lexer": "ipython3",
   "version": "3.12.0"
  }
 },
 "nbformat": 4,
 "nbformat_minor": 5
}
