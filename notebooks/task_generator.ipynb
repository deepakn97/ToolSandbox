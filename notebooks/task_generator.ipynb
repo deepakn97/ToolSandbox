{
 "cells": [
  {
   "cell_type": "markdown",
   "id": "0",
   "metadata": {},
   "source": [
    "## Task Generator\n",
    "\n",
    "In this notebook, we will make changes to support a task generator for user simulation study in Tool Sanbbox. The user simulation study has been broken down into two components:\n",
    "- Natural Language Task Generator: We will take the current randomized state of the environment, all the available tools and prepare a prompt for the model to generate a natural language task.\n",
    "- User Trajectory Generator: This class will take in a natural language task and try to complete the task in the tool sandbox. Most importantly, we will strip the \"thinking\" outputs from the outputs of this class. So ideal trajectory should look like a sequence of tool calls and system messages to user.\n",
    "\n",
    "\n",
    "Additionally, we want to evaluate the *feasibility* of the task generator and *accuracy* of the trajectory generator. Feasbility can be calculated as *how many models are able to complete the task* and accuracy of trajectory generator, we should be able to judge by using milestones and minefields. Milestones and minefields should also be automatically generated but then we also have to find a way to judge it's own accuracy. I know LLM as a judge should be doable but still."
   ]
  },
  {
   "cell_type": "code",
   "execution_count": null,
   "id": "1",
   "metadata": {},
   "outputs": [],
   "source": [
    "%load_ext autoreload\n",
    "%autoreload 2\n"
   ]
  },
  {
   "cell_type": "code",
   "execution_count": null,
   "id": "2",
   "metadata": {},
   "outputs": [],
   "source": [
    "from tool_sandbox.common.execution_context import DatabaseNamespace, RoleType, get_current_context\n",
    "\n",
    "from tool_sandbox.common.message_conversion import Message\n",
    "from tool_sandbox.common.tool_conversion import convert_to_openai_tool, convert_to_openai_tools, convert_python_function_to_openai_function\n"
   ]
  },
  {
   "cell_type": "code",
   "execution_count": null,
   "id": "3",
   "metadata": {},
   "outputs": [],
   "source": [
    "current_context = get_current_context()\n",
    "\n",
    "sandbox_database = current_context.get_database(DatabaseNamespace.SANDBOX, get_all_history_snapshots=True, drop_sandbox_message_index=False)\n"
   ]
  },
  {
   "cell_type": "code",
   "execution_count": null,
   "id": "4",
   "metadata": {},
   "outputs": [],
   "source": [
    "print(sandbox_database)\n"
   ]
  },
  {
   "cell_type": "code",
   "execution_count": null,
   "id": "5",
   "metadata": {},
   "outputs": [],
   "source": [
    "available_tools = current_context.get_available_tools(scrambling_allowed=True)\n",
    "print(available_tools)\n"
   ]
  },
  {
   "cell_type": "code",
   "execution_count": null,
   "id": "6",
   "metadata": {},
   "outputs": [],
   "source": [
    "convert_to_openai_tool(available_tools[\"add_contact\"])\n"
   ]
  },
  {
   "cell_type": "code",
   "execution_count": null,
   "id": "7",
   "metadata": {},
   "outputs": [],
   "source": [
    "convert_python_function_to_openai_function(\"add_contact\", available_tools[\"add_contact\"])\n"
   ]
  },
  {
   "cell_type": "code",
   "execution_count": null,
   "id": "8",
   "metadata": {},
   "outputs": [],
   "source": [
    "# get all tools and their openai tool representation\n",
    "from tool_sandbox.common.tool_discovery import get_all_tools, ToolBackend\n",
    "from tool_sandbox.common.tool_conversion import convert_python_function_to_nl_tool_string, get_tool_docs_natural_language\n",
    "\n",
    "# TODO: Write a utility function to convert openai_tools to natural language strings for use with LLM.\n",
    "\n",
    "all_tools = get_all_tools(ToolBackend.DEFAULT)\n",
    "\n",
    "tool_docs = get_tool_docs_natural_language(all_tools)\n",
    "print(tool_docs)\n",
    "\n",
    "\n"
   ]
  },
  {
   "cell_type": "code",
   "execution_count": null,
   "id": "9",
   "metadata": {},
   "outputs": [],
   "source": []
  }
 ],
 "metadata": {
  "kernelspec": {
   "display_name": ".venv",
   "language": "python",
   "name": "python3"
  },
  "language_info": {
   "codemirror_mode": {
    "name": "ipython",
    "version": 3
   },
   "file_extension": ".py",
   "mimetype": "text/x-python",
   "name": "python",
   "nbconvert_exporter": "python",
   "pygments_lexer": "ipython3",
   "version": "3.12.0"
  }
 },
 "nbformat": 4,
 "nbformat_minor": 5
}
